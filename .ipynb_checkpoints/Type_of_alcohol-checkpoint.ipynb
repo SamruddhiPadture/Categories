{
 "cells": [
  {
   "cell_type": "code",
   "execution_count": 5,
   "metadata": {},
   "outputs": [],
   "source": [
    "import requests\n",
    "from bs4 import BeautifulSoup\n",
    "import urllib.request\n",
    "import nltk\n",
    "import re\n",
    "import pandas as pd"
   ]
  },
  {
   "cell_type": "code",
   "execution_count": 6,
   "metadata": {},
   "outputs": [],
   "source": [
    "# query = \"Budweiser\"\n",
    "def get_url(query):\n",
    "    page = requests.get(\"https://www.google.com/search?q=\"+query+\"+alcohol+wikipedia&oq=\"+query+\"+alcohol+wikiped&aqs=chrome.1.69i57j33.11038j1j7&sourceid=chrome&ie=UTF-8\")\n",
    "    soup = BeautifulSoup(page.content)\n",
    "    urlstr=\"\"\n",
    "    for link in soup.find_all(\"a\",href=re.compile(\"(?<=/url\\?q=)(htt.*://.*)\")):\n",
    "        url = re.split(\":(?=http)\",link[\"href\"].replace(\"/url?q=\",\"\"))\n",
    "        urlstr = ' '.join(map(str, url)) \n",
    "        urlstr = urlstr.split('&')[0]\n",
    "        break\n",
    "    return urlstr"
   ]
  },
  {
   "cell_type": "code",
   "execution_count": 7,
   "metadata": {},
   "outputs": [],
   "source": [
    "def list_to_string(s):  \n",
    "    str1 = \" \" \n",
    "    return (str1.join(s)) "
   ]
  },
  {
   "cell_type": "code",
   "execution_count": 8,
   "metadata": {},
   "outputs": [],
   "source": [
    "def open_url(urlstr):\n",
    "    page = requests.get(urlstr)\n",
    "    soup = BeautifulSoup(page.content)\n",
    "\n",
    "    info= \"\"\n",
    "    whitelist = [\n",
    "      'p','b','a'\n",
    "    ]\n",
    "\n",
    "    text_elements = [t for t in soup.find_all(text=True) if t.parent.name in whitelist]\n",
    "\n",
    "    y=list_to_string(text_elements)\n",
    "#     print(y)\n",
    "    return y"
   ]
  },
  {
   "cell_type": "code",
   "execution_count": 9,
   "metadata": {},
   "outputs": [],
   "source": [
    "def search(word, sentences):\n",
    "       return [i for i in sentences if re.search(r'\\b%s\\b' % word, i)]"
   ]
  },
  {
   "cell_type": "code",
   "execution_count": 10,
   "metadata": {},
   "outputs": [],
   "source": [
    "def get_content(y):\n",
    "    s = re.split(r'[.?!:]+', y)\n",
    "\n",
    "    a=search('is a', s)\n",
    "    a+=search('is an ', s)\n",
    "\n",
    "    content = list_to_string(a)\n",
    "    return content"
   ]
  },
  {
   "cell_type": "code",
   "execution_count": 11,
   "metadata": {},
   "outputs": [],
   "source": [
    "def get_type(content): \n",
    "    type_list = ['vodka','gin','baijiu','tequila','rum','whisky','brandy','singani','soju','beer','wine','cider']\n",
    "    content_lower = content.lower()\n",
    "    for item in type_list:\n",
    "        if(content_lower.find(item)!= -1):\n",
    "            break\n",
    "    return item\n",
    "\n",
    "           \n",
    "def get_sub_type(content):\n",
    "    beer = ['brown ale','lager','pale lager','pale ale','india pale ale (IPA)','porter stout','belgian style beer','wheat beer',\n",
    "            'pale lagers and pilsners','dark lagers','german-style bocks','american sour','belgian fruit lambic',\n",
    "            'flanders red ale','belgian gueuze']\n",
    "    \n",
    "    content_lower1 = content.lower()\n",
    "    sub_type_of_alcohol = \"\"\n",
    "    for element in beer:\n",
    "        if(content_lower1.find(element)!= -1):\n",
    "            sub_type_of_alcohol = element\n",
    "            break\n",
    "    return sub_type_of_alcohol\n"
   ]
  },
  {
   "cell_type": "code",
   "execution_count": 12,
   "metadata": {},
   "outputs": [],
   "source": [
    "def driver():\n",
    "    urlstr = get_url(\"budweiser\")\n",
    "    y = open_url(urlstr)\n",
    "    content = get_content(y)\n",
    "    print(content)\n",
    "    alcohol_type = get_type(content)\n",
    "    print(alcohol_type)\n",
    "    x = get_sub_type(content)\n",
    "    print(x)\n",
    "    \n",
    "\n"
   ]
  },
  {
   "cell_type": "code",
   "execution_count": 13,
   "metadata": {},
   "outputs": [
    {
     "name": "stdout",
     "output_type": "stream",
     "text": [
      " Budweiser is a medium-bodied, flavorful, crisp American-style lager  Brewed with the best barley malt and a blend of premium hop varieties, it is an iconic beer, celebrated in America\n",
      "beer\n",
      "lager\n"
     ]
    }
   ],
   "source": [
    "driver()"
   ]
  },
  {
   "cell_type": "code",
   "execution_count": null,
   "metadata": {},
   "outputs": [],
   "source": []
  }
 ],
 "metadata": {
  "kernelspec": {
   "display_name": "Python 3",
   "language": "python",
   "name": "python3"
  },
  "language_info": {
   "codemirror_mode": {
    "name": "ipython",
    "version": 3
   },
   "file_extension": ".py",
   "mimetype": "text/x-python",
   "name": "python",
   "nbconvert_exporter": "python",
   "pygments_lexer": "ipython3",
   "version": "3.7.4"
  }
 },
 "nbformat": 4,
 "nbformat_minor": 2
}
