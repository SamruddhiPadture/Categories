{
 "cells": [
  {
   "cell_type": "code",
   "execution_count": 3,
   "metadata": {},
   "outputs": [],
   "source": [
    "import wptools"
   ]
  },
  {
   "cell_type": "code",
   "execution_count": 46,
   "metadata": {},
   "outputs": [
    {
     "name": "stderr",
     "output_type": "stream",
     "text": [
      "en.wikipedia.org (parse) smirnoff\n"
     ]
    },
    {
     "name": "stdout",
     "output_type": "stream",
     "text": [
      "{'name': 'Smirnoff', 'image': '[[File:Smirnoff.svg|150px]]', 'abv': '35% – 50%', 'type': '[[Vodka]]', 'manufacturer': '[[Diageo]]', 'origin': '[[Russia]]', 'introduced': 'ca. 1860s', 'proof': '70 – 100', 'related': '[[List of vodkas]]', 'website': 'http://www.smirnoff.com/'}\n"
     ]
    },
    {
     "name": "stderr",
     "output_type": "stream",
     "text": [
      "Smirnoff (en) data\n",
      "{\n",
      "  image: <list(0)> \n",
      "  infobox: <dict(10)> name, image, abv, type, manufacturer, origin...\n",
      "  iwlinks: <list(2)> https://commons.wikimedia.org/wiki/Category:S...\n",
      "  pageid: 265806\n",
      "  parsetree: <str(31119)> <root><template><title>Use dmy dates</ti...\n",
      "  requests: <list(1)> parse\n",
      "  title: Smirnoff\n",
      "  wikibase: Q777721\n",
      "  wikidata_url: https://www.wikidata.org/wiki/Q777721\n",
      "  wikitext: <str(26835)> {{Use dmy dates|date=October 2019}}{{Othe...\n",
      "}\n"
     ]
    }
   ],
   "source": [
    "so = wptools.page('smirnoff').get_parse()\n",
    "infobox = so.data['infobox']\n",
    "print(infobox)"
   ]
  },
  {
   "cell_type": "code",
   "execution_count": 47,
   "metadata": {},
   "outputs": [
    {
     "name": "stdout",
     "output_type": "stream",
     "text": [
      "{'name': 'Smirnoff', 'image': 'File:Smirnoff.svg150px', 'abv': '35% – 50%', 'type': 'Vodka', 'manufacturer': 'Diageo', 'origin': 'Russia', 'introduced': 'ca. 1860s', 'proof': '70 – 100', 'related': 'List of vodkas', 'website': 'http://www.smirnoff.com/'}\n"
     ]
    }
   ],
   "source": [
    "chars = ['[',']','{','}','|','<br>','<br />','<br/>']\n",
    "for key in infobox:\n",
    "    for c in chars:\n",
    "        if(c in infobox[key]):\n",
    "            value1= infobox[key]\n",
    "            value1 = value1.replace(c,\"\")\n",
    "            infobox[key] = value1\n",
    "print(infobox)"
   ]
  },
  {
   "cell_type": "code",
   "execution_count": 48,
   "metadata": {},
   "outputs": [],
   "source": [
    "origin = \"origin\"; abv = \"abv\"; manufacturer = \"manufacturer\"; al_type = \"type\" ; sub_type = \"sub_type\"; \n",
    "value = {}\n",
    "value['location'] = origin\n",
    "value['origin'] = origin\n",
    "value['country of origin'] = origin\n",
    "\n",
    "value['volume'] = abv\n",
    "value['alcohol volume'] = abv\n",
    "value['alcohol percentage'] = abv\n",
    "value['abv 1'] = abv\n",
    "value['abv'] = abv\n",
    "value['alcohol content'] = abv\n",
    "\n",
    "\n",
    "value['owner'] = manufacturer\n",
    "value['manufacturer'] = manufacturer\n",
    "value['ownership'] = manufacturer\n",
    "\n",
    "value['style'] = sub_type\n",
    "value['type'] = al_type"
   ]
  },
  {
   "cell_type": "code",
   "execution_count": 49,
   "metadata": {},
   "outputs": [],
   "source": [
    "# def equalIgnoreCase(str1, str2) : \n",
    "  \n",
    "#     # Convert to lower case  \n",
    "#     str1 = str1.lower(); \n",
    "#     str2 = str2.lower(); \n",
    "  \n",
    "#     # if strings are equal,  \n",
    "#     # return true otherwise false  \n",
    "#     x = str1 == str2;  \n",
    "      \n",
    "#     return x; "
   ]
  },
  {
   "cell_type": "code",
   "execution_count": 50,
   "metadata": {},
   "outputs": [
    {
     "name": "stdout",
     "output_type": "stream",
     "text": [
      "{'abv': '35% – 50%', 'type': 'Vodka', 'manufacturer': 'Diageo', 'origin': 'Russia'}\n"
     ]
    }
   ],
   "source": [
    "param = {}\n",
    "for key in infobox:\n",
    "    if key in value:\n",
    "        param[value[key]] = infobox[key]\n",
    "style = param['type'] \n",
    "if  style == 'Lager' or style == 'American lager' or style == 'Pale lager':\n",
    "    param['type'] = 'Beer'\n",
    "    param['subtype'] = style\n",
    "print(param)"
   ]
  },
  {
   "cell_type": "code",
   "execution_count": null,
   "metadata": {},
   "outputs": [],
   "source": []
  }
 ],
 "metadata": {
  "kernelspec": {
   "display_name": "Python 3",
   "language": "python",
   "name": "python3"
  },
  "language_info": {
   "codemirror_mode": {
    "name": "ipython",
    "version": 3
   },
   "file_extension": ".py",
   "mimetype": "text/x-python",
   "name": "python",
   "nbconvert_exporter": "python",
   "pygments_lexer": "ipython3",
   "version": "3.7.4"
  }
 },
 "nbformat": 4,
 "nbformat_minor": 2
}
