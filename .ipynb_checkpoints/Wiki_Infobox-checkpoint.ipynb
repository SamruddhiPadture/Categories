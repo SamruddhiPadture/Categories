{
 "cells": [
  {
   "cell_type": "code",
   "execution_count": 1,
   "metadata": {},
   "outputs": [],
   "source": [
    "import wptools"
   ]
  },
  {
   "cell_type": "code",
   "execution_count": 8,
   "metadata": {},
   "outputs": [
    {
     "name": "stderr",
     "output_type": "stream",
     "text": [
      "en.wikipedia.org (parse) Kingfisher beer\n",
      "en.wikipedia.org (imageinfo) File:Kingfisher beer logo.png\n"
     ]
    },
    {
     "name": "stdout",
     "output_type": "stream",
     "text": [
      "{'name': 'Kingfisher', 'image': 'Kingfisher beer logo.png', 'type': '[[Lager]]', 'abv': '4.8%', 'manufacturer': '[[United Breweries Group]]', 'origin': '[[India]]', 'introduced': '1857', 'variants': 'Kingfisher Premium <br /> Kingfisher Strong <br /> Kingfisher Strong Fresh <br /> Kingfisher Draught <br /> Kingfisher Ultra <br /> Kingfisher Blue<br /> Kingfisher Red <br /> Kingfisher Lager <br /> Kingfisher Storm', 'related': '{{ubl|Kingfisher Bohemia|Zingaro|UB Export|London Pilsner|Kalyani Black Label|Bullet|Peacock Cider|Bintang Beer|Pearl River Beer}}', 'website': '{{hlist|[http://www.kingfisherworld.com Kingfisher (global)]|[http://www.kingfisherbeer.co.uk Kingfisher (Europe)]}}'}\n"
     ]
    },
    {
     "name": "stderr",
     "output_type": "stream",
     "text": [
      "Kingfisher (beer) (en) data\n",
      "{\n",
      "  image: <list(1)> {'kind': 'parse-image', 'file': 'File:Kingfishe...\n",
      "  infobox: <dict(10)> name, image, type, abv, manufacturer, origin...\n",
      "  iwlinks: <list(1)> https://commons.wikimedia.org/wiki/Category:K...\n",
      "  pageid: 4335749\n",
      "  parsetree: <str(8338)> <root><template><title>Primary sources</t...\n",
      "  requests: <list(2)> parse, imageinfo\n",
      "  title: Kingfisher (beer)\n",
      "  wikibase: Q1572281\n",
      "  wikidata_url: https://www.wikidata.org/wiki/Q1572281\n",
      "  wikitext: <str(5289)> {{Primary sources|date=May 2019}}{{Use Ind...\n",
      "}\n"
     ]
    }
   ],
   "source": [
    "so = wptools.page('Kingfisher beer').get_parse()\n",
    "infobox = so.data['infobox']\n",
    "print(infobox)"
   ]
  },
  {
   "cell_type": "code",
   "execution_count": 10,
   "metadata": {},
   "outputs": [
    {
     "name": "stdout",
     "output_type": "stream",
     "text": [
      "{'name': 'Kingfisher', 'image': 'Kingfisher beer logo.png', 'type': 'Lager', 'abv': '4.8%', 'manufacturer': 'United Breweries Group', 'origin': 'India', 'introduced': '1857', 'variants': 'Kingfisher Premium  Kingfisher Strong  Kingfisher Strong Fresh  Kingfisher Draught  Kingfisher Ultra  Kingfisher Blue Kingfisher Red  Kingfisher Lager  Kingfisher Storm', 'related': 'ublKingfisher BohemiaZingaroUB ExportLondon PilsnerKalyani Black LabelBulletPeacock CiderBintang BeerPearl River Beer', 'website': 'hlisthttp://www.kingfisherworld.com Kingfisher (global)http://www.kingfisherbeer.co.uk Kingfisher (Europe)'}\n"
     ]
    }
   ],
   "source": [
    "chars = ['[',']','{','}','|','<br>','<br />']\n",
    "for key in infobox:\n",
    "    for c in chars:\n",
    "        if(c in infobox[key]):\n",
    "            value1= infobox[key]\n",
    "            value1 = value1.replace(c,\"\")\n",
    "            infobox[key] = value1\n",
    "print(infobox)"
   ]
  },
  {
   "cell_type": "code",
   "execution_count": null,
   "metadata": {},
   "outputs": [],
   "source": []
  }
 ],
 "metadata": {
  "kernelspec": {
   "display_name": "Python 3",
   "language": "python",
   "name": "python3"
  },
  "language_info": {
   "codemirror_mode": {
    "name": "ipython",
    "version": 3
   },
   "file_extension": ".py",
   "mimetype": "text/x-python",
   "name": "python",
   "nbconvert_exporter": "python",
   "pygments_lexer": "ipython3",
   "version": "3.7.4"
  }
 },
 "nbformat": 4,
 "nbformat_minor": 2
}
