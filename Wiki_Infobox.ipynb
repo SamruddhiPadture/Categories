{
 "cells": [
  {
   "cell_type": "code",
   "execution_count": 8,
   "metadata": {},
   "outputs": [],
   "source": [
    "import wptools"
   ]
  },
  {
   "cell_type": "code",
   "execution_count": 9,
   "metadata": {},
   "outputs": [
    {
     "name": "stderr",
     "output_type": "stream",
     "text": [
      "en.wikipedia.org (parse) chivas regal\n",
      "en.wikipedia.org (imageinfo) File:Chivas image for wikipedia.jpg\n"
     ]
    },
    {
     "name": "stdout",
     "output_type": "stream",
     "text": [
      "{'name': 'Chivas Regal', 'image': 'File:Chivas image for wikipedia.jpg', 'image_size': '200', 'type': '[[Scotch whisky]]', 'abv': '40%', 'manufacturer': 'Chivas Brothers', 'origin': '[[Scotland]]', 'introduced': '1801', 'related': '{{ubl|[[100 Pipers]]|[[Royal Salute whisky]]}}', 'variants': '12 year old, 18 year old, 25 year old', 'website': 'https://www.chivas.com/'}\n"
     ]
    },
    {
     "name": "stderr",
     "output_type": "stream",
     "text": [
      "Chivas Regal (en) data\n",
      "{\n",
      "  image: <list(1)> {'kind': 'parse-image', 'file': 'File:Chivas im...\n",
      "  infobox: <dict(11)> name, image, image_size, type, abv, manufact...\n",
      "  iwlinks: <list(1)> https://commons.wikimedia.org/wiki/Category:C...\n",
      "  pageid: 1106445\n",
      "  parsetree: <str(27592)> <root><template><title>Infobox Beverage<...\n",
      "  requests: <list(2)> parse, imageinfo\n",
      "  title: Chivas Regal\n",
      "  wikibase: Q1069502\n",
      "  wikidata_url: https://www.wikidata.org/wiki/Q1069502\n",
      "  wikitext: <str(21416)> {{Infobox Beverage|name=Chivas Regal|imag...\n",
      "}\n"
     ]
    }
   ],
   "source": [
    "so = wptools.page('chivas regal').get_parse()\n",
    "infobox = so.data['infobox']\n",
    "print(infobox)"
   ]
  },
  {
   "cell_type": "code",
   "execution_count": null,
   "metadata": {},
   "outputs": [],
   "source": []
  }
 ],
 "metadata": {
  "kernelspec": {
   "display_name": "Python 3",
   "language": "python",
   "name": "python3"
  },
  "language_info": {
   "codemirror_mode": {
    "name": "ipython",
    "version": 3
   },
   "file_extension": ".py",
   "mimetype": "text/x-python",
   "name": "python",
   "nbconvert_exporter": "python",
   "pygments_lexer": "ipython3",
   "version": "3.6.5"
  }
 },
 "nbformat": 4,
 "nbformat_minor": 2
}
