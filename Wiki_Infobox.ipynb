{
 "cells": [
  {
   "cell_type": "code",
   "execution_count": 1,
   "metadata": {},
   "outputs": [],
   "source": [
    "import wptools"
   ]
  },
  {
   "cell_type": "code",
   "execution_count": 19,
   "metadata": {},
   "outputs": [
    {
     "name": "stderr",
     "output_type": "stream",
     "text": [
      "en.wikipedia.org (parse) smirnoff\n"
     ]
    },
    {
     "name": "stdout",
     "output_type": "stream",
     "text": [
      "{'name': 'Smirnoff', 'image': '[[File:Smirnoff.svg|150px]]', 'abv': '35% – 50%', 'type': '[[Vodka]]', 'manufacturer': '[[Diageo]]', 'origin': '[[Russia]]', 'introduced': 'ca. 1860s', 'proof': '70 – 100', 'related': '[[List of vodkas]]', 'website': 'http://www.smirnoff.com/'}\n"
     ]
    },
    {
     "name": "stderr",
     "output_type": "stream",
     "text": [
      "Smirnoff (en) data\n",
      "{\n",
      "  image: <list(0)> \n",
      "  infobox: <dict(10)> name, image, abv, type, manufacturer, origin...\n",
      "  iwlinks: <list(2)> https://commons.wikimedia.org/wiki/Category:S...\n",
      "  pageid: 265806\n",
      "  parsetree: <str(31119)> <root><template><title>Use dmy dates</ti...\n",
      "  requests: <list(1)> parse\n",
      "  title: Smirnoff\n",
      "  wikibase: Q777721\n",
      "  wikidata_url: https://www.wikidata.org/wiki/Q777721\n",
      "  wikitext: <str(26835)> {{Use dmy dates|date=October 2019}}{{Othe...\n",
      "}\n"
     ]
    }
   ],
   "source": [
    "so = wptools.page('smirnoff').get_parse()\n",
    "infobox = so.data['infobox']\n",
    "print(infobox)"
   ]
  },
  {
   "cell_type": "code",
   "execution_count": 20,
   "metadata": {},
   "outputs": [
    {
     "name": "stdout",
     "output_type": "stream",
     "text": [
      "{'name': 'Smirnoff', 'image': 'File:Smirnoff.svg150px', 'abv': '35% – 50%', 'type': 'Vodka', 'manufacturer': 'Diageo', 'origin': 'Russia', 'introduced': 'ca. 1860s', 'proof': '70 – 100', 'related': 'List of vodkas', 'website': 'http://www.smirnoff.com/'}\n"
     ]
    }
   ],
   "source": [
    "chars = ['[',']','{','}','|','<br>','<br />','<br/>']\n",
    "for key in infobox:\n",
    "    for c in chars:\n",
    "        if(c in infobox[key]):\n",
    "            value1= infobox[key]\n",
    "            value1 = value1.replace(c,\"\")\n",
    "            infobox[key] = value1\n",
    "print(infobox)"
   ]
  },
  {
   "cell_type": "code",
   "execution_count": 21,
   "metadata": {},
   "outputs": [
    {
     "name": "stdout",
     "output_type": "stream",
     "text": [
      "{'abv': '35% – 50%', 'type': 'Vodka', 'manufacturer': 'Diageo', 'origin': 'Russia'}\n"
     ]
    }
   ],
   "source": [
    "param = {}\n",
    "required = ['type','origin','abv','manufacturer','style']\n",
    "for key in infobox:\n",
    "    for r in required:\n",
    "        if r in key:\n",
    "            param[r] = infobox[key]\n",
    "print(param)"
   ]
  },
  {
   "cell_type": "code",
   "execution_count": null,
   "metadata": {},
   "outputs": [],
   "source": []
  }
 ],
 "metadata": {
  "kernelspec": {
   "display_name": "Python 3",
   "language": "python",
   "name": "python3"
  },
  "language_info": {
   "codemirror_mode": {
    "name": "ipython",
    "version": 3
   },
   "file_extension": ".py",
   "mimetype": "text/x-python",
   "name": "python",
   "nbconvert_exporter": "python",
   "pygments_lexer": "ipython3",
   "version": "3.7.4"
  }
 },
 "nbformat": 4,
 "nbformat_minor": 2
}
