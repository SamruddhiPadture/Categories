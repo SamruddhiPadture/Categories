{
 "cells": [
  {
   "cell_type": "code",
   "execution_count": 24,
   "metadata": {},
   "outputs": [],
   "source": [
    "import requests\n",
    "from bs4 import BeautifulSoup\n",
    "import urllib.request\n",
    "import nltk\n",
    "import re\n",
    "import pandas as pd"
   ]
  },
  {
   "cell_type": "code",
   "execution_count": 25,
   "metadata": {},
   "outputs": [],
   "source": [
    "# query = \"Budweiser\"\n",
    "def get_url(query):\n",
    "    page = requests.get(\"https://www.google.com/search?q=\"+query+\"+alcohol+wikipedia&oq=\"+query+\"+alcohol+wikiped&aqs=chrome.1.69i57j33.11038j1j7&sourceid=chrome&ie=UTF-8\")\n",
    "    soup = BeautifulSoup(page.content)\n",
    "    urlstr=\"\"\n",
    "    for link in soup.find_all(\"a\",href=re.compile(\"(?<=/url\\?q=)(htt.*://.*)\")):\n",
    "        url = re.split(\":(?=http)\",link[\"href\"].replace(\"/url?q=\",\"\"))\n",
    "        urlstr = ' '.join(map(str, url)) \n",
    "        urlstr = urlstr.split('&')[0]\n",
    "        break\n",
    "    return urlstr"
   ]
  },
  {
   "cell_type": "code",
   "execution_count": 26,
   "metadata": {},
   "outputs": [],
   "source": [
    "def list_to_string(s):  \n",
    "    str1 = \" \" \n",
    "    return (str1.join(s)) "
   ]
  },
  {
   "cell_type": "code",
   "execution_count": 27,
   "metadata": {},
   "outputs": [],
   "source": [
    "def open_url(urlstr):\n",
    "    page = requests.get(urlstr)\n",
    "    soup = BeautifulSoup(page.content)\n",
    "\n",
    "    info= \"\"\n",
    "    whitelist = [\n",
    "      'p','b','a'\n",
    "    ]\n",
    "\n",
    "    text_elements = [t for t in soup.find_all(text=True) if t.parent.name in whitelist]\n",
    "\n",
    "    y=list_to_string(text_elements)\n",
    "#     print(y)\n",
    "    return y"
   ]
  },
  {
   "cell_type": "code",
   "execution_count": 28,
   "metadata": {},
   "outputs": [],
   "source": [
    "def search(word, sentences):\n",
    "       return [i for i in sentences if re.search(r'\\b%s\\b' % word, i)]"
   ]
  },
  {
   "cell_type": "code",
   "execution_count": 29,
   "metadata": {},
   "outputs": [],
   "source": [
    "def get_content(y):\n",
    "    s = re.split(r'[.?!:]+', y)\n",
    "\n",
    "    a=search('is a', s)\n",
    "    a+=search('is an ', s)\n",
    "\n",
    "    content = list_to_string(a)\n",
    "    return content"
   ]
  },
  {
   "cell_type": "code",
   "execution_count": 37,
   "metadata": {},
   "outputs": [],
   "source": [
    "def check_name(query):\n",
    "    type_list = ['vodka','gin','baijiu','tequila','rum','whisky','brandy','singani','soju','beer','wine','cider']\n",
    "    query = query.lower()\n",
    "    for item in type_list:\n",
    "        if(query.find(item)!= -1):\n",
    "            break\n",
    "    return item\n",
    "\n",
    "def get_type(content): \n",
    "    type_list = ['vodka','gin','baijiu','tequila','rum','whisky','brandy','singani','soju','beer','wine','cider']\n",
    "    content_lower = content.lower()\n",
    "    for item in type_list:\n",
    "        if(content_lower.find(item)!= -1):\n",
    "            break\n",
    "    return item\n",
    "\n",
    "           \n",
    "def get_sub_type(content):\n",
    "    beer = ['brown ale','lager','pale lager','pale ale','india pale ale (IPA)','porter stout','belgian style beer','wheat beer',\n",
    "            'pale lagers and pilsners','dark lagers','german-style bocks','american sour','belgian fruit lambic',\n",
    "            'flanders red ale','belgian gueuze']\n",
    "    \n",
    "    vodka = ['absolut','belvedere','grey goose','smirnoff','stolichnaya','three olives','uv vodka','van gogh']\n",
    "    \n",
    "    gin = ['london dry gin','plymouth gin','genever or dutch gin','old tom gin','new american or international style gin','sloe gin']\n",
    "    \n",
    "    tequila = ['blanco','joven','reposado','añejo','extra añejo']\n",
    "    \n",
    "    wine = ['red wine','rose wine','dessert wine','sweet wine','sparkling wine']\n",
    "    \n",
    "    rum = ['white or clear rum','gold or pale rum','dark rum','black rum','navy rum','premium aged rum','vintage rum','overproof rum',\n",
    "           'rhum agricole','cachaça','aguardiente','flavored and spiced rum']\n",
    "    \n",
    "    whiskey = ['scotch','bourbon','irish whiskey','canadian whiskey','japanese whiskey']\n",
    "    \n",
    "    brandy = ['Cognac Brandy','Armagnac Brandy','Calvados','Brandy de Jerez','Obstler brandy','Pisco brandy','Armenian brandy',\n",
    "             'Cypriot brandy','Pomace brandy','south african brandy']\n",
    "    \n",
    "    content_lower1 = content.lower()\n",
    "    sub_type_of_alcohol = \"\"\n",
    "    for a,b,c,d,e,f,g,h in zip(beer,vodka,gin,tequila,wine,rum,whiskey,brandy):\n",
    "        if(content_lower1.find(a)!= -1):\n",
    "            sub_type_of_alcohol = a\n",
    "        elif(content_lower1.find(b)!= -1):\n",
    "            sub_type_of_alcohol = b\n",
    "        elif(content_lower1.find(c)!= -1):\n",
    "            sub_type_of_alcohol = c\n",
    "        elif(content_lower1.find(d)!= -1):\n",
    "            sub_type_of_alcohol = d\n",
    "        elif(content_lower1.find(e)!= -1):\n",
    "            sub_type_of_alcohol = e    \n",
    "        elif(content_lower1.find(f)!= -1):\n",
    "            sub_type_of_alcohol = f    \n",
    "        elif(content_lower1.find(g)!= -1):\n",
    "            sub_type_of_alcohol = g    \n",
    "        elif(content_lower1.find(h)!= -1):\n",
    "            sub_type_of_alcohol = h  \n",
    "        \n",
    "    return sub_type_of_alcohol\n"
   ]
  },
  {
   "cell_type": "code",
   "execution_count": 31,
   "metadata": {},
   "outputs": [],
   "source": [
    "def get_manufacturer(query,al_type):\n",
    "    headers = {'User-Agent': 'Mozilla/5.0 (Windows NT 10.0; Win64; x64) AppleWebKit/537.36 (KHTML, like Gecko) Chrome/64.0.3282.186 Safari/537.36'}\n",
    "    r = requests.get(\"https://www.google.com/search?biw=1280&bih=610&ei=e8RIXt7HCOK1mgfXy5PwBw&q=\"+query+al_type+\"+manufacturer&oq=\"+query+al_type+\"+manufacturer&gs_l=psy-ab.3..0i71l8.4032.4032..4220...0.2..0.0.0.......0....1..gws-wiz.pkv0d6RvK9Q&ved=0ahUKEwie8b_AndXnAhXimuYKHdflBH4Q4dUDCAs&uact=5\", headers=headers)\n",
    "\n",
    "#     r = requests.get(\"https://www.google.com/search?q=\"+query+\"+alcohol+manufacturer&rlz=1C1CHBF_enIN880IN880&oq=\"+query+\"+alcohol+manu&aqs=chrome.5.69i57j33l6.12357j0j7&sourceid=chrome&ie=UTF-8\")\n",
    "    soup = BeautifulSoup(r.text, 'lxml')\n",
    "    #AZCkJd\n",
    "    result = soup.find('div', class_='Z0LcW AZCkJd')\n",
    "    if(result == None):\n",
    "        result = soup.find('div', class_='Z0LcW')\n",
    "        return (result.text)\n",
    "    else: \n",
    "        return (result.text)"
   ]
  },
  {
   "cell_type": "code",
   "execution_count": 32,
   "metadata": {},
   "outputs": [],
   "source": [
    "def get_alco_content(query):\n",
    "    headers = {'User-Agent': 'Mozilla/5.0 (Windows NT 10.0; Win64; x64) AppleWebKit/537.36 (KHTML, like Gecko) Chrome/64.0.3282.186 Safari/537.36'}\n",
    "    r = requests.get(\"https://www.google.com/search?safe=active&sxsrf=ALeKk01tNMV7-s3HnEgklgrrDXTbsTqEOw%3A1585549593397&ei=GZGBXrzqF9qF4-EPq665uAs&q=\"+query+\"+alcohol+content&oq=\"+query+\"+alcohol+content&gs_lcp=CgZwc3ktYWIQAzoECAAQRzoECAAQDToICAAQCBANEB46BQgAEM0CUJxNWIddYNhfaABwA3gAgAGqAYgBuwiSAQMwLjeYAQCgAQGqAQdnd3Mtd2l6&sclient=psy-ab&ved=0ahUKEwj82qbCyMHoAhXawjgGHStXDrcQ4dUDCAs&uact=5\",headers=headers)\n",
    "    soup = BeautifulSoup(r.text, 'lxml')\n",
    "    #AZCkJd\n",
    "    result = soup.find('div', class_='Z0LcW AZCkJd')\n",
    "    if(result == None):\n",
    "        result = soup.find('div', class_='Z0LcW')\n",
    "        return(result.text)\n",
    "    else: \n",
    "        return(result.text)"
   ]
  },
  {
   "cell_type": "code",
   "execution_count": 38,
   "metadata": {},
   "outputs": [],
   "source": [
    "def driver(query):\n",
    "    alco_type = check_name(query)\n",
    "    if(alco_type == None):\n",
    "        alcohol_type = get_type(content)\n",
    "    else:\n",
    "        alcohol_type = alco_type\n",
    "    urlstr = get_url(query)\n",
    "    y = open_url(urlstr)\n",
    "    content = get_content(y)\n",
    "    \n",
    "    print(\"Alcohol type: \"+alcohol_type)\n",
    "    sub_type = get_sub_type(content)\n",
    "    print(\"Alcohol subtype: \"+sub_type)\n",
    "    manufacturer = get_manufacturer(query,alcohol_type)\n",
    "    print(\"Manufacturer: \"+manufacturer)\n",
    "    alco_content = get_alco_content(query)\n",
    "    print(\"Alcohol content: \"+alco_content)"
   ]
  },
  {
   "cell_type": "code",
   "execution_count": 39,
   "metadata": {},
   "outputs": [
    {
     "name": "stdout",
     "output_type": "stream",
     "text": [
      "Alcohol type: beer\n",
      "Alcohol subtype: lager\n",
      "Manufacturer: United Breweries - UB Group\n",
      "Alcohol content: 4.8%\n"
     ]
    }
   ],
   "source": [
    "driver(\"kingfisher premium lager beer\")"
   ]
  },
  {
   "cell_type": "code",
   "execution_count": null,
   "metadata": {},
   "outputs": [],
   "source": []
  }
 ],
 "metadata": {
  "kernelspec": {
   "display_name": "Python 3",
   "language": "python",
   "name": "python3"
  },
  "language_info": {
   "codemirror_mode": {
    "name": "ipython",
    "version": 3
   },
   "file_extension": ".py",
   "mimetype": "text/x-python",
   "name": "python",
   "nbconvert_exporter": "python",
   "pygments_lexer": "ipython3",
   "version": "3.7.4"
  }
 },
 "nbformat": 4,
 "nbformat_minor": 2
}
